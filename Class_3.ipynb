{
  "nbformat": 4,
  "nbformat_minor": 0,
  "metadata": {
    "colab": {
      "provenance": [],
      "authorship_tag": "ABX9TyNZ+mI1XoJZw53k+MUvwtAA",
      "include_colab_link": true
    },
    "kernelspec": {
      "name": "python3",
      "display_name": "Python 3"
    },
    "language_info": {
      "name": "python"
    }
  },
  "cells": [
    {
      "cell_type": "markdown",
      "metadata": {
        "id": "view-in-github",
        "colab_type": "text"
      },
      "source": [
        "<a href=\"https://colab.research.google.com/github/Thanusha-Mannurramesh/PYTHON-/blob/main/Class_3.ipynb\" target=\"_parent\"><img src=\"https://colab.research.google.com/assets/colab-badge.svg\" alt=\"Open In Colab\"/></a>"
      ]
    },
    {
      "cell_type": "markdown",
      "source": [
        "***Classes and Objects***\n",
        "\n",
        "\n",
        "A class in Python is a user-defined template for creating objects. It bundles data and functions together, making it easier to manage and use them. When we create a new class, we define a new type of object. We can then create multiple instances of this object type.\n",
        "\n",
        "Classes are created using class keyword. Attributes are variables defined inside the class and represent the properties of the class. Attributes can be accessed using the dot . operator (e.g., MyClass.my_attribute).\n"
      ],
      "metadata": {
        "id": "tOEHfirSr1PB"
      }
    },
    {
      "cell_type": "code",
      "execution_count": null,
      "metadata": {
        "id": "hx6KRKS4rdQv"
      },
      "outputs": [],
      "source": [
        "# define a class\n",
        "class Dog:\n",
        "    sound = \"bark\"  # class attribute"
      ]
    },
    {
      "cell_type": "code",
      "source": [
        "class Dog:\n",
        "    sound = \"bark\"\n",
        "    color =\"white\"\n",
        "\n",
        "# Create an object from the class\n",
        "dog2 = Dog()\n",
        "\n",
        "# Access the class attribute\n",
        "print(dog2.color)"
      ],
      "metadata": {
        "colab": {
          "base_uri": "https://localhost:8080/"
        },
        "id": "Sx3XGHKFsCl3",
        "outputId": "4b3fb71f-77a5-4587-a4f6-259eb220eb9e"
      },
      "execution_count": null,
      "outputs": [
        {
          "output_type": "stream",
          "name": "stdout",
          "text": [
            "white\n"
          ]
        }
      ]
    },
    {
      "cell_type": "markdown",
      "source": [
        "sound attribute is a class attribute. It is shared across all instances of Dog class, so can be directly accessed through instance dog1.\n",
        "\n",
        "***Using __init__() Function***\n",
        "In Python, class has __init__() function. It automatically initializes object attributes when an object is created."
      ],
      "metadata": {
        "id": "f7ixVElusGC9"
      }
    },
    {
      "cell_type": "code",
      "source": [
        "class Dog:\n",
        "    species = \"Canine\"  # Class attribute\n",
        "\n",
        "    def __init__(self, name, age):\n",
        "        self.name = name  # Instance attribute\n",
        "        self.age = age  # Instance attribute"
      ],
      "metadata": {
        "id": "8EufOZlmsJhd"
      },
      "execution_count": null,
      "outputs": []
    },
    {
      "cell_type": "markdown",
      "source": [
        "Explanation:\n",
        "\n",
        "class Dog: Defines a class named Dog.\n",
        "\n",
        "species: A class attribute shared by all instances of the class.\n",
        "\n",
        "__init__ method: Initializes the name and age attributes when a new object is created."
      ],
      "metadata": {
        "id": "1HwWgo7zsRtc"
      }
    },
    {
      "cell_type": "code",
      "source": [
        "class Dog:\n",
        "    species = \"Canine\"  # Class attribute\n",
        "\n",
        "    def __init__(self, name, age):\n",
        "        self.name = name  # Instance attribute\n",
        "        self.age = age  # Instance attribute\n",
        "\n",
        "# Creating an object of the Dog class\n",
        "dog1 = Dog(\"Buddy\", 3)\n",
        "\n",
        "print(dog1.name)  # Output: Buddy\n",
        "print(dog1.species)  # Output: Canine\n"
      ],
      "metadata": {
        "colab": {
          "base_uri": "https://localhost:8080/"
        },
        "id": "fyRNfIscsU1d",
        "outputId": "372f2382-9db4-442f-d32d-847cd86ec751"
      },
      "execution_count": null,
      "outputs": [
        {
          "output_type": "stream",
          "name": "stdout",
          "text": [
            "Buddy\n",
            "Canine\n"
          ]
        }
      ]
    },
    {
      "cell_type": "markdown",
      "source": [
        "Explanation:\n",
        "\n",
        "dog1 = Dog(“Buddy”, 3): Creates an object of the Dog class with name as “Buddy” and age as 3.\n",
        "\n",
        "dog1.name: Accesses the instance attribute name of the dog1 object.\n",
        "\n",
        "dog1.species: Accesses the class attribute species of the dog1 object."
      ],
      "metadata": {
        "id": "qXt8M8S8sdc8"
      }
    },
    {
      "cell_type": "markdown",
      "source": [
        "**__str__ Method**\n",
        "\n",
        "\n",
        "\n",
        "__str__ method in Python allows us to define a custom string representation of an object. By default, when we print an object or convert it to a string using str(), Python uses the default implementation, which returns a string like <__main__.ClassName object at 0x00000123>."
      ],
      "metadata": {
        "id": "Mce2FGREtNOC"
      }
    },
    {
      "cell_type": "code",
      "source": [
        "class Dog:\n",
        "    def __init__(self, name, age):\n",
        "        self.name = name\n",
        "        self.age = age\n",
        "\n",
        "    def __str__(self):\n",
        "        return f\"{self.name} is {self.age} years old.\"  # Correct: Returning a string\n",
        "\n",
        "dog1 = Dog(\"Buddy\", 3)\n",
        "dog2 = Dog(\"Charlie\", 5)\n",
        "\n",
        "print(dog1)\n",
        "print(dog2)"
      ],
      "metadata": {
        "colab": {
          "base_uri": "https://localhost:8080/"
        },
        "id": "7p7TKoCbs4gY",
        "outputId": "dd298fc4-4677-4794-f9d5-ce4367020cae"
      },
      "execution_count": null,
      "outputs": [
        {
          "output_type": "stream",
          "name": "stdout",
          "text": [
            "Buddy is 3 years old.\n",
            "Charlie is 5 years old.\n"
          ]
        }
      ]
    },
    {
      "cell_type": "code",
      "source": [
        "class Dog:\n",
        "    # Class variable\n",
        "    species = \"Canine\"\n",
        "\n",
        "    def __init__(self, name, age):\n",
        "        # Instance variables\n",
        "        self.name = name\n",
        "        self.age = age\n",
        "\n",
        "# Create objects\n",
        "dog1 = Dog(\"Buddy\", 3)\n",
        "dog2 = Dog(\"Charlie\", 5)\n",
        "\n",
        "# Access class and instance variables\n",
        "print(dog1.species)  # (Class variable)\n",
        "print(dog1.name)     # (Instance variable)\n",
        "print(dog2.name)     # (Instance variable)\n",
        "\n",
        "# Modify instance variables\n",
        "dog1.name = \"Max\"\n",
        "print(dog1.name)     # (Updated instance variable)\n",
        "\n",
        "# Modify class variable\n",
        "Dog.species = \"Feline\"\n",
        "print(dog1.species)  # (Updated class variable)\n",
        "print(dog2.species)\n"
      ],
      "metadata": {
        "colab": {
          "base_uri": "https://localhost:8080/"
        },
        "id": "Kz6XXAakPQOf",
        "outputId": "ca900860-54bf-40b2-a543-2d78f3c91675"
      },
      "execution_count": 1,
      "outputs": [
        {
          "output_type": "stream",
          "name": "stdout",
          "text": [
            "Canine\n",
            "Buddy\n",
            "Charlie\n",
            "Max\n",
            "Feline\n",
            "Feline\n"
          ]
        }
      ]
    },
    {
      "cell_type": "markdown",
      "source": [
        "Explanation:\n",
        "\n",
        "Class Variable (species): Shared by all instances of the class. Changing Dog.species affects all objects, as it’s a property of the class itself.\n",
        "\n",
        "\n",
        "Instance Variables (name, age): Defined in the __init__ method. Unique to each instance (e.g., dog1.name and dog2.name are different).\n",
        "\n",
        "Accessing Variables: Class variables can be accessed via the class name (Dog.species) or an object (dog1.species). Instance variables are accessed via the object (dog1.name).\n",
        "\n",
        "Updating Variables: Changing Dog.species affects all instances. Changing dog1.name only affects dog1 and does not impact dog2."
      ],
      "metadata": {
        "id": "n3T7x-MfPYHA"
      }
    },
    {
      "cell_type": "markdown",
      "source": [
        " ***Inheritance***:\n",
        "\n",
        "\n",
        "Inheritance allows a class (child class) to acquire properties and methods of another class (parent class). It supports hierarchical classification and promotes code reuse.\n",
        "\n",
        "\n",
        "**Types of Inheritance:**\n",
        "\n",
        "*Single Inheritance*: A child class inherits from a single parent class.\n",
        "\n",
        "*Multiple Inheritance*: A child class inherits from more than one parent class.\n",
        "*Multilevel Inheritance*: A child class inherits from a parent class, which in turn inherits from another class.\n",
        "\n",
        "*Hierarchical Inheritance:* Multiple child classes inherit from a single parent class.\n",
        "\n",
        "*Hybrid Inheritance*: A combination of two or more types of inheritance."
      ],
      "metadata": {
        "id": "ByErS8xDPjYL"
      }
    },
    {
      "cell_type": "code",
      "source": [
        "# Single Inheritance\n",
        "class Dog:\n",
        "    def __init__(self, name):\n",
        "        self.name = name\n",
        "\n",
        "    def display_name(self):\n",
        "        print(f\"Dog's Name: {self.name}\")\n",
        "\n",
        "class Labrador(Dog):  # Single Inheritance\n",
        "    def sound(self):\n",
        "        print(\"Labrador woofs\")\n",
        "\n",
        "# Multilevel Inheritance\n",
        "class GuideDog(Labrador):  # Multilevel Inheritance\n",
        "    def guide(self):\n",
        "        print(f\"{self.name}Guides the way!\")\n",
        "\n",
        "# Multiple Inheritance\n",
        "class Friendly:\n",
        "    def greet(self):\n",
        "        print(\"Friendly!\")\n",
        "\n",
        "class GoldenRetriever(Dog, Friendly):  # Multiple Inheritance\n",
        "    def sound(self):\n",
        "        print(\"Golden Retriever Barks\")\n",
        "\n",
        "# Example Usage\n",
        "lab = Labrador(\"Buddy\")\n",
        "lab.display_name()\n",
        "lab.sound()\n",
        "\n",
        "guide_dog = GuideDog(\"Max\")\n",
        "guide_dog.display_name()\n",
        "guide_dog.guide()\n",
        "\n",
        "retriever = GoldenRetriever(\"Charlie\")\n",
        "retriever.display_name()\n",
        "retriever.greet()\n",
        "retriever.sound()\n"
      ],
      "metadata": {
        "colab": {
          "base_uri": "https://localhost:8080/"
        },
        "id": "w9sY3sIPPzP7",
        "outputId": "0ed47f0f-a202-4283-a50f-d393369c192a"
      },
      "execution_count": 2,
      "outputs": [
        {
          "output_type": "stream",
          "name": "stdout",
          "text": [
            "Dog's Name: Buddy\n",
            "Labrador woofs\n",
            "Dog's Name: Max\n",
            "MaxGuides the way!\n",
            "Dog's Name: Charlie\n",
            "Friendly!\n",
            "Golden Retriever Barks\n"
          ]
        }
      ]
    },
    {
      "cell_type": "markdown",
      "source": [
        "***Explanation:***\n",
        "\n",
        "\n",
        "\n",
        "Single Inheritance: Labrador inherits Dog’s attributes and methods.\n",
        "\n",
        "\n",
        "Multilevel Inheritance: GuideDog extends Labrador, inheriting both Dog and Labrador functionalities.\n",
        "\n",
        "\n",
        "Multiple Inheritance: GoldenRetriever inherits from both Dog and Friendly."
      ],
      "metadata": {
        "id": "k3tmSCUuQJvn"
      }
    },
    {
      "cell_type": "markdown",
      "source": [
        "***Polymorphism***:\n",
        "\n",
        "\n",
        "Polymorphism allows methods to have the same name but behave differently based on the object’s context. It can be achieved through method overriding or overloading.\n",
        "\n",
        "***Types of Polymorphism***:\n",
        "\n",
        "***Compile-Time Polymorphism:*** This type of polymorphism is determined during the compilation of the program. It allows methods or operators with the same name to behave differently based on their input parameters or usage. It is commonly referred to as method or operator overloading.\n",
        "\n",
        "***Run-Time Polymorphism:*** This type of polymorphism is determined during the execution of the program. It occurs when a subclass provides a specific implementation for a method already defined in its parent class, commonly known as method overriding."
      ],
      "metadata": {
        "id": "6lJu4JPHQUO5"
      }
    },
    {
      "cell_type": "code",
      "source": [
        "# Parent Class\n",
        "class Dog:\n",
        "    def sound(self):\n",
        "        print(\"dog sound\")  # Default implementation\n",
        "\n",
        "# Run-Time Polymorphism: Method Overriding\n",
        "class Labrador(Dog):\n",
        "    def sound(self):\n",
        "        print(\"Labrador woofs\")  # Overriding parent method\n",
        "\n",
        "class Beagle(Dog):\n",
        "    def sound(self):\n",
        "        print(\"Beagle Barks\")  # Overriding parent method\n",
        "\n",
        "# Compile-Time Polymorphism: Method Overloading Mimic\n",
        "class Calculator:\n",
        "    def add(self, a, b=0, c=0):\n",
        "        return a + b + c  # Supports multiple ways to call add()\n",
        "\n",
        "# Run-Time Polymorphism\n",
        "dogs = [Dog(), Labrador(), Beagle()]\n",
        "for dog in dogs:\n",
        "    dog.sound()  # Calls the appropriate method based on the object type\n",
        "\n",
        "\n",
        "# Compile-Time Polymorphism (Mimicked using default arguments)\n",
        "calc = Calculator()\n",
        "print(calc.add(5, 10))  # Two arguments\n",
        "print(calc.add(5, 10, 15))  # Three arguments\n"
      ],
      "metadata": {
        "colab": {
          "base_uri": "https://localhost:8080/"
        },
        "id": "0q6gWbJ3QL6H",
        "outputId": "cf781f09-f363-4de3-b303-9d144f10cd0a"
      },
      "execution_count": 3,
      "outputs": [
        {
          "output_type": "stream",
          "name": "stdout",
          "text": [
            "dog sound\n",
            "Labrador woofs\n",
            "Beagle Barks\n",
            "15\n",
            "30\n"
          ]
        }
      ]
    },
    {
      "cell_type": "markdown",
      "source": [
        "***Encapsulation***:\n",
        "Encapsulation is the bundling of data (attributes) and methods (functions) within a class, restricting access to some components to control interactions.\n",
        "\n",
        "A class is an example of encapsulation as it encapsulates all the data that is member functions, variables, etc.![encapsulation-in-python.png](data:image/png;base64,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)"
      ],
      "metadata": {
        "id": "GMKlzEUdQuDU"
      }
    },
    {
      "cell_type": "markdown",
      "source": [
        "***Types of Encapsulation:***\n",
        "Public Members: Accessible from anywhere.\n",
        "\n",
        "Protected Members: Accessible within the class and its subclasses.\n",
        "\n",
        "Private Members: Accessible only within the class."
      ],
      "metadata": {
        "id": "3si9wFJSQ9gx"
      }
    },
    {
      "cell_type": "code",
      "source": [
        "class Dog:\n",
        "    def __init__(self, name, breed, age):\n",
        "        self.name = name  # Public attribute\n",
        "        self._breed = breed  # Protected attribute\n",
        "        self.__age = age  # Private attribute\n",
        "\n",
        "    # Public method\n",
        "    def get_info(self):\n",
        "        return f\"Name: {self.name}, Breed: {self._breed}, Age: {self.__age}\"\n",
        "\n",
        "    # Getter and Setter for private attribute\n",
        "    def get_age(self):\n",
        "        return self.__age\n",
        "\n",
        "    def set_age(self, age):\n",
        "        if age > 0:\n",
        "            self.__age = age\n",
        "        else:\n",
        "            print(\"Invalid age!\")\n",
        "\n",
        "# Example Usage\n",
        "dog = Dog(\"Buddy\", \"Labrador\", 3)\n",
        "\n",
        "# Accessing public member\n",
        "print(dog.name)  # Accessible\n",
        "\n",
        "# Accessing protected member\n",
        "print(dog._breed)  # Accessible but discouraged outside the class\n",
        "\n",
        "# Accessing private member using getter\n",
        "print(dog.get_age())\n",
        "\n",
        "# Modifying private member using setter\n",
        "dog.set_age(5)\n",
        "print(dog.get_info())\n"
      ],
      "metadata": {
        "colab": {
          "base_uri": "https://localhost:8080/"
        },
        "id": "Myf6s1FbRKyR",
        "outputId": "62427029-5563-4c6b-ae6d-275d524a8f56"
      },
      "execution_count": 4,
      "outputs": [
        {
          "output_type": "stream",
          "name": "stdout",
          "text": [
            "Buddy\n",
            "Labrador\n",
            "3\n",
            "Name: Buddy, Breed: Labrador, Age: 5\n"
          ]
        }
      ]
    },
    {
      "cell_type": "markdown",
      "source": [
        "# ***Explanation:***\n",
        "\n",
        "Public Members: Easily accessible, such as name.\n",
        "\n",
        "Protected Members: Used with a single _, such as _breed. Access is discouraged but allowed in subclasses.\n",
        "\n",
        "Private Members: Used with __, such as __age. Access requires getter and setter methods."
      ],
      "metadata": {
        "id": "qu1rPHalRVtU"
      }
    },
    {
      "cell_type": "code",
      "source": [],
      "metadata": {
        "id": "6D6ZzH8Xy1CE"
      },
      "execution_count": null,
      "outputs": []
    }
  ]
}