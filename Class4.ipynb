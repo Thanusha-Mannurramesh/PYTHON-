{
  "nbformat": 4,
  "nbformat_minor": 0,
  "metadata": {
    "colab": {
      "provenance": [],
      "authorship_tag": "ABX9TyP4WdENRDEX2+8v/adevhWi",
      "include_colab_link": true
    },
    "kernelspec": {
      "name": "python3",
      "display_name": "Python 3"
    },
    "language_info": {
      "name": "python"
    }
  },
  "cells": [
    {
      "cell_type": "markdown",
      "metadata": {
        "id": "view-in-github",
        "colab_type": "text"
      },
      "source": [
        "<a href=\"https://colab.research.google.com/github/Thanusha-Mannurramesh/PYTHON-/blob/main/Class4.ipynb\" target=\"_parent\"><img src=\"https://colab.research.google.com/assets/colab-badge.svg\" alt=\"Open In Colab\"/></a>"
      ]
    },
    {
      "cell_type": "markdown",
      "source": [
        "# If Conditional Statement in Python\n",
        "If statement is the simplest form of a conditional statement. It executes a block of code if the given condition is true."
      ],
      "metadata": {
        "id": "-SSWORxkpQLc"
      }
    },
    {
      "cell_type": "code",
      "execution_count": 1,
      "metadata": {
        "colab": {
          "base_uri": "https://localhost:8080/"
        },
        "id": "JIQeYkNfpI47",
        "outputId": "c2a00ceb-a394-4bc9-fe87-66458d1cf459"
      },
      "outputs": [
        {
          "output_type": "stream",
          "name": "stdout",
          "text": [
            "Eligible to vote.\n"
          ]
        }
      ],
      "source": [
        "age = 20\n",
        "\n",
        "if age >= 18:\n",
        "    print(\"Eligible to vote.\")"
      ]
    },
    {
      "cell_type": "markdown",
      "source": [
        "# If else Conditional Statements\n",
        "It allows us to specify a block of code that will execute if the condition(s) associated with an if or elif statement evaluates to False. Else block provides a way to handle all other cases that don't meet the specified conditions."
      ],
      "metadata": {
        "id": "ZSDXKViRpcTL"
      }
    },
    {
      "cell_type": "code",
      "source": [
        "age = 10\n",
        "\n",
        "if age <= 12:\n",
        "    print(\"Travel for free.\")\n",
        "else:\n",
        "    print(\"Pay for ticket.\")\n"
      ],
      "metadata": {
        "colab": {
          "base_uri": "https://localhost:8080/"
        },
        "id": "wNL9j4DKpkQ6",
        "outputId": "d23e0205-3b40-47a4-bd55-0a6da87bd23c"
      },
      "execution_count": 2,
      "outputs": [
        {
          "output_type": "stream",
          "name": "stdout",
          "text": [
            "Travel for free.\n"
          ]
        }
      ]
    },
    {
      "cell_type": "markdown",
      "source": [
        "#elif Statement\n",
        "elif statement in Python stands for \"else if.\" It allows us to check multiple conditions , providing a way to execute different blocks of code based on which condition is true. Using elif statements makes our code more readable and efficient by eliminating the need for multiple nested if statements."
      ],
      "metadata": {
        "id": "gkgoCZ-MponR"
      }
    },
    {
      "cell_type": "code",
      "source": [
        "age = 25\n",
        "\n",
        "if age <= 12:\n",
        "    print(\"Child.\")\n",
        "elif age <= 19:\n",
        "    print(\"Teenager.\")\n",
        "elif age <= 35:\n",
        "    print(\"Young adult.\")\n",
        "else:\n",
        "    print(\"Adult.\")\n"
      ],
      "metadata": {
        "colab": {
          "base_uri": "https://localhost:8080/"
        },
        "id": "hj7CbjBCpq-7",
        "outputId": "37b04996-4e84-4996-dbbd-7139f22f2766"
      },
      "execution_count": 3,
      "outputs": [
        {
          "output_type": "stream",
          "name": "stdout",
          "text": [
            "Young adult.\n"
          ]
        }
      ]
    },
    {
      "cell_type": "markdown",
      "source": [
        "# Nested if..else Conditional Statements\n",
        "Nested if..else means an if-else statement inside another if statement. We can use nested if statements to check conditions within conditions."
      ],
      "metadata": {
        "id": "lM64W-IvpwRS"
      }
    },
    {
      "cell_type": "code",
      "source": [
        "age = 70\n",
        "is_member = True\n",
        "\n",
        "if age >= 60:\n",
        "    if is_member:\n",
        "        print(\"30% senior discount!\")\n",
        "    else:\n",
        "        print(\"20% senior discount.\")\n",
        "else:\n",
        "    print(\"Not eligible for a senior discount.\")\n"
      ],
      "metadata": {
        "colab": {
          "base_uri": "https://localhost:8080/"
        },
        "id": "7JGR9jo1p326",
        "outputId": "907faf00-fa26-461b-a724-3e763329a7c1"
      },
      "execution_count": 4,
      "outputs": [
        {
          "output_type": "stream",
          "name": "stdout",
          "text": [
            "30% senior discount!\n"
          ]
        }
      ]
    },
    {
      "cell_type": "markdown",
      "source": [
        "# Ternary Conditional Statement in Python\n",
        "A ternary conditional statement is a compact way to write an if-else condition in a single line. It’s sometimes called a \"conditional expression.\""
      ],
      "metadata": {
        "id": "4TZzMFa-p81q"
      }
    },
    {
      "cell_type": "code",
      "source": [
        "# Assign a value based on a condition\n",
        "age = 20\n",
        "s = \"Adult\" if age >= 18 else \"Minor\"\n",
        "\n",
        "print(s)\n"
      ],
      "metadata": {
        "colab": {
          "base_uri": "https://localhost:8080/"
        },
        "id": "Elpzl5Iup8TS",
        "outputId": "9635d04b-417e-47f4-fb4e-d5388cfacff8"
      },
      "execution_count": 5,
      "outputs": [
        {
          "output_type": "stream",
          "name": "stdout",
          "text": [
            "Adult\n"
          ]
        }
      ]
    },
    {
      "cell_type": "markdown",
      "source": [
        "# Match-Case Statement in Python\n",
        "match-case statement is Python's version of a switch-case found in other languages. It allows us to match a variable's value against a set of patterns."
      ],
      "metadata": {
        "id": "oardnBmxqDU5"
      }
    },
    {
      "cell_type": "code",
      "source": [
        "number = 2\n",
        "\n",
        "match number:\n",
        "    case 1:\n",
        "        print(\"One\")\n",
        "    case 2 | 3:\n",
        "        print(\"Two or Three\")\n",
        "    case _:\n",
        "        print(\"Other number\")\n"
      ],
      "metadata": {
        "colab": {
          "base_uri": "https://localhost:8080/"
        },
        "id": "BMeopnbLqFRi",
        "outputId": "c55ae69d-5cbf-403a-fe3a-49ed039627e6"
      },
      "execution_count": 6,
      "outputs": [
        {
          "output_type": "stream",
          "name": "stdout",
          "text": [
            "Two or Three\n"
          ]
        }
      ]
    },
    {
      "cell_type": "markdown",
      "source": [
        "# Loops in Python – For, While and Nested Loops\n",
        "Loops in Python are used to repeat actions efficiently. The main types are For loops (counting through items) and While loops (based on conditions). Additionally, Nested Loops allow looping within loops for more complex tasks. While all the ways provide similar basic functionality, they differ in their syntax and condition-checking time. In this article, we will look at Python loops and understand their working with the help of examples."
      ],
      "metadata": {
        "id": "bMTL-4tgqVia"
      }
    },
    {
      "cell_type": "markdown",
      "source": [
        "# While Loop in Python\n",
        "In Python, a while loop is used to execute a block of statements repeatedly until a given condition is satisfied. When the condition becomes false, the line immediately after the loop in the program is executed."
      ],
      "metadata": {
        "id": "a2uC69baqaKB"
      }
    },
    {
      "cell_type": "code",
      "source": [
        "cnt = 0\n",
        "while (cnt < 3):\n",
        "    cnt = cnt + 1\n",
        "    print(\"Hello Geek\")\n",
        "else:\n",
        "    print(\"In Else Block\")\n"
      ],
      "metadata": {
        "colab": {
          "base_uri": "https://localhost:8080/"
        },
        "id": "Xz2nIeQJqeG5",
        "outputId": "ca1fb7eb-6de7-4d81-c5d6-17502eff399c"
      },
      "execution_count": 7,
      "outputs": [
        {
          "output_type": "stream",
          "name": "stdout",
          "text": [
            "Hello Geek\n",
            "Hello Geek\n",
            "Hello Geek\n",
            "In Else Block\n"
          ]
        }
      ]
    },
    {
      "cell_type": "markdown",
      "source": [
        "# For Loop\n",
        "For loops are used for sequential traversal. For example: traversing a list or string or array etc. In Python, there is “for in” loop which is similar to foreach loop in other languages. Let us learn how to use for loops in Python for sequential traversals with examples."
      ],
      "metadata": {
        "id": "VpCAYGY5qpdL"
      }
    },
    {
      "cell_type": "code",
      "source": [
        "n = 4\n",
        "for i in range(0, n):\n",
        "    print(i)"
      ],
      "metadata": {
        "colab": {
          "base_uri": "https://localhost:8080/"
        },
        "id": "-sBDebxpqo_j",
        "outputId": "928a1d1b-6873-4d85-83e4-0129f09a8a3a"
      },
      "execution_count": 8,
      "outputs": [
        {
          "output_type": "stream",
          "name": "stdout",
          "text": [
            "0\n",
            "1\n",
            "2\n",
            "3\n"
          ]
        }
      ]
    },
    {
      "cell_type": "markdown",
      "source": [
        "This code prints the numbers from 0 to 3 (inclusive) using a for loop that iterates over a range from 0 to n-1 (where n = 4)."
      ],
      "metadata": {
        "id": "TA4lnBRnq42i"
      }
    },
    {
      "cell_type": "markdown",
      "source": [
        "# Example with List, Tuple, String, and Dictionary Iteration Using for Loops\n"
      ],
      "metadata": {
        "id": "uuVmHOvsrAla"
      }
    },
    {
      "cell_type": "code",
      "source": [
        "li = [\"geeks\", \"for\", \"geeks\"]\n",
        "for i in li:\n",
        "    print(i)\n",
        "\n",
        "tup = (\"geeks\", \"for\", \"geeks\")\n",
        "for i in tup:\n",
        "    print(i)\n",
        "\n",
        "s = \"Geeks\"\n",
        "for i in s:\n",
        "    print(i)\n",
        "\n",
        "d = dict({'x':123, 'y':354})\n",
        "for i in d:\n",
        "    print(\"%s  %d\" % (i, d[i]))\n",
        "\n",
        "set1 = {1, 2, 3, 4, 5, 6}\n",
        "for i in set1:\n",
        "    print(i),\n"
      ],
      "metadata": {
        "colab": {
          "base_uri": "https://localhost:8080/"
        },
        "id": "vGShXw6Gq_7S",
        "outputId": "9deb79ce-6a3b-4c31-f773-5ebd81998f16"
      },
      "execution_count": 10,
      "outputs": [
        {
          "output_type": "stream",
          "name": "stdout",
          "text": [
            "geeks\n",
            "for\n",
            "geeks\n",
            "geeks\n",
            "for\n",
            "geeks\n",
            "G\n",
            "e\n",
            "e\n",
            "k\n",
            "s\n",
            "x  123\n",
            "y  354\n",
            "1\n",
            "2\n",
            "3\n",
            "4\n",
            "5\n",
            "6\n"
          ]
        }
      ]
    },
    {
      "cell_type": "markdown",
      "source": [
        "# Using else Statement with for Loop in Python\n",
        "We can also combine else statement with for loop like in while loop. But as there is no condition in for loop based on which the execution will terminate so the else block will be executed immediately after for block finishes execution."
      ],
      "metadata": {
        "id": "nNk7jPAnrUpS"
      }
    },
    {
      "cell_type": "code",
      "source": [
        "list = [\"geeks\", \"for\", \"geeks\"]\n",
        "for index in range(len(list)):\n",
        "    print(list[index])\n",
        "else:\n",
        "    print(\"Inside Else Block\")\n"
      ],
      "metadata": {
        "colab": {
          "base_uri": "https://localhost:8080/"
        },
        "id": "jYu2WvFhrUHS",
        "outputId": "7b19fd3a-d225-40d5-c027-a2e42e9c45c3"
      },
      "execution_count": 11,
      "outputs": [
        {
          "output_type": "stream",
          "name": "stdout",
          "text": [
            "geeks\n",
            "for\n",
            "geeks\n",
            "Inside Else Block\n"
          ]
        }
      ]
    },
    {
      "cell_type": "markdown",
      "source": [
        "# Nested Loops Syntax:\n",
        "A final note on loop nesting is that we can put any type of loop inside of any other type of loops in Python. For example, a for loop can be inside a while loop or vice versa.\n",
        "\n"
      ],
      "metadata": {
        "id": "knCvopbArgij"
      }
    },
    {
      "cell_type": "code",
      "source": [
        "from __future__ import print_function\n",
        "for i in range(1, 5):\n",
        "    for j in range(i):\n",
        "        print(i, end=' ')\n",
        "    print()\n"
      ],
      "metadata": {
        "colab": {
          "base_uri": "https://localhost:8080/"
        },
        "id": "ojUd7iAarubK",
        "outputId": "9a4caa79-f1c1-4e60-f796-52a3b33cc91e"
      },
      "execution_count": 12,
      "outputs": [
        {
          "output_type": "stream",
          "name": "stdout",
          "text": [
            "1 \n",
            "2 2 \n",
            "3 3 3 \n",
            "4 4 4 4 \n"
          ]
        }
      ]
    },
    {
      "cell_type": "markdown",
      "source": [
        "#Loop Control Statements\n",
        "Loop control statements change execution from their normal sequence. When execution leaves a scope, all automatic objects that were created in that scope are destroyed. Python supports the following control statements."
      ],
      "metadata": {
        "id": "SKbG_mgIr6K7"
      }
    },
    {
      "cell_type": "code",
      "source": [
        "for letter in 'geeksforgeeks':\n",
        "    if letter == 'e' or letter == 's':\n",
        "        continue\n",
        "    print('Current Letter :', letter)\n"
      ],
      "metadata": {
        "colab": {
          "base_uri": "https://localhost:8080/"
        },
        "id": "eqY3sD0Jr_cy",
        "outputId": "347192d8-f2f8-4bf2-cbd2-89f0972d2bbc"
      },
      "execution_count": 13,
      "outputs": [
        {
          "output_type": "stream",
          "name": "stdout",
          "text": [
            "Current Letter : g\n",
            "Current Letter : k\n",
            "Current Letter : f\n",
            "Current Letter : o\n",
            "Current Letter : r\n",
            "Current Letter : g\n",
            "Current Letter : k\n"
          ]
        }
      ]
    },
    {
      "cell_type": "markdown",
      "source": [
        "# Break Statement\n",
        "The break statement in Python brings control out of the loop."
      ],
      "metadata": {
        "id": "xAJo1A7RsNsD"
      }
    },
    {
      "cell_type": "code",
      "source": [
        "for letter in 'geeksforgeeks':\n",
        "    if letter == 'e' or letter == 's':\n",
        "        break\n",
        "\n",
        "print('Current Letter :', letter)\n"
      ],
      "metadata": {
        "colab": {
          "base_uri": "https://localhost:8080/"
        },
        "id": "b-SwlU4OsQOx",
        "outputId": "e26f61c5-b273-4367-be4e-5a87a532554c"
      },
      "execution_count": 14,
      "outputs": [
        {
          "output_type": "stream",
          "name": "stdout",
          "text": [
            "Current Letter : e\n"
          ]
        }
      ]
    },
    {
      "cell_type": "markdown",
      "source": [
        "# Pass Statement\n",
        "We use pass statement in Python to write empty loops. Pass is also used for empty control statements, functions and classes."
      ],
      "metadata": {
        "id": "xMjz60KssWgS"
      }
    },
    {
      "cell_type": "code",
      "source": [
        "for letter in 'geeksforgeeks':\n",
        "    pass\n",
        "print('Last Letter :', letter)\n"
      ],
      "metadata": {
        "colab": {
          "base_uri": "https://localhost:8080/"
        },
        "id": "D9MbESpbsYQ1",
        "outputId": "4aa5cfc7-809c-4acb-e848-2f8da92f4539"
      },
      "execution_count": 16,
      "outputs": [
        {
          "output_type": "stream",
          "name": "stdout",
          "text": [
            "Last Letter : s\n"
          ]
        }
      ]
    },
    {
      "cell_type": "markdown",
      "source": [
        "# Break Statement\n",
        "The break statement in Python brings control out of the loop.\n",
        "\n",
        "\n",
        "\n",
        "\n"
      ],
      "metadata": {
        "id": "sgabEAfuv8Qz"
      }
    },
    {
      "cell_type": "code",
      "source": [
        "for letter in 'geeksforgeeks':\n",
        "    if letter == 'e' or letter == 's':\n",
        "        break\n",
        "\n",
        "print('Current Letter :', letter)\n"
      ],
      "metadata": {
        "colab": {
          "base_uri": "https://localhost:8080/"
        },
        "id": "IrrYxd1qwAwR",
        "outputId": "ee5199e9-c92f-48b0-c126-b3bdcae20b23"
      },
      "execution_count": 17,
      "outputs": [
        {
          "output_type": "stream",
          "name": "stdout",
          "text": [
            "Current Letter : e\n"
          ]
        }
      ]
    },
    {
      "cell_type": "markdown",
      "source": [
        "***Explanation:***\n",
        "\n",
        "\n",
        " break statement is used to exit the loop prematurely when a specified condition is met. In this example, the loop breaks when the letter is either ‘e’ or ‘s’, stopping further iteration."
      ],
      "metadata": {
        "id": "__2z-o6SwHXq"
      }
    },
    {
      "cell_type": "code",
      "source": [],
      "metadata": {
        "id": "FE-U_v3uwM-h"
      },
      "execution_count": null,
      "outputs": []
    }
  ]
}